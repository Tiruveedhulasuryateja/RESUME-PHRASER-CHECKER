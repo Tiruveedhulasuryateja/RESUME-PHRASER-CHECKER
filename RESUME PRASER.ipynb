{
 "cells": [
  {
   "cell_type": "code",
   "execution_count": 11,
   "id": "2dcb6851",
   "metadata": {},
   "outputs": [
    {
     "name": "stderr",
     "output_type": "stream",
     "text": [
      "[nltk_data] Downloading package punkt to\n",
      "[nltk_data]     C:\\Users\\surya\\AppData\\Roaming\\nltk_data...\n",
      "[nltk_data]   Package punkt is already up-to-date!\n",
      "[nltk_data] Downloading package stopwords to\n",
      "[nltk_data]     C:\\Users\\surya\\AppData\\Roaming\\nltk_data...\n",
      "[nltk_data]   Package stopwords is already up-to-date!\n"
     ]
    },
    {
     "data": {
      "text/plain": [
       "True"
      ]
     },
     "execution_count": 11,
     "metadata": {},
     "output_type": "execute_result"
    }
   ],
   "source": [
    "import nltk\n",
    "from nltk.tokenize import word_tokenize, sent_tokenize\n",
    "from nltk.corpus import stopwords\n",
    "from nltk.tag import pos_tag\n",
    "from nltk import FreqDist\n",
    "nltk.download('punkt')\n",
    "nltk.download('stopwords')"
   ]
  },
  {
   "cell_type": "code",
   "execution_count": 12,
   "id": "81d490e8",
   "metadata": {},
   "outputs": [],
   "source": [
    "def preprocess_text(text):\n",
    "    # Tokenize the text\n",
    "    tokens = word_tokenize(text.lower())\n",
    "\n",
    "    # Remove stopwords\n",
    "    stop_words = set(stopwords.words(\"english\")) #selected text language is English\n",
    "    filtered_tokens = [token for token in tokens if token not in stop_words]\n",
    "\n",
    "    return filtered_tokens"
   ]
  },
  {
   "cell_type": "code",
   "execution_count": 13,
   "id": "14747f7f",
   "metadata": {},
   "outputs": [],
   "source": [
    "def calculate_similarity(job_keywords, candidate_profile):\n",
    "    # Preprocess the job keywords and candidate profile\n",
    "    job_tokens = preprocess_text(job_keywords)\n",
    "    candidate_tokens = preprocess_text(candidate_profile)\n",
    "\n",
    "    # Calculate term frequencies\n",
    "    job_frequencies = FreqDist(job_tokens)\n",
    "    candidate_frequencies = FreqDist(candidate_tokens)\n",
    "\n",
    "    # Calculate the similarity score\n",
    "    common_tokens = set(job_frequencies.keys()) & set(candidate_frequencies.keys())\n",
    "    score = sum([job_frequencies[token] * candidate_frequencies[token] for token in common_tokens])\n",
    "\n",
    "    return score"
   ]
  },
  {
   "cell_type": "code",
   "execution_count": 14,
   "id": "26296a2f",
   "metadata": {},
   "outputs": [],
   "source": [
    "def find_best_candidate(job_keywords, candidate_details):\n",
    "    best_score = 0\n",
    "    best_candidate = None\n",
    "\n",
    "    for candidate in candidate_details:\n",
    "        candidate_profile = candidate['profile']\n",
    "        score = calculate_similarity(job_keywords, candidate_profile)\n",
    "\n",
    "        if score > best_score:\n",
    "            best_score = score\n",
    "            best_candidate = candidate['name']\n",
    "\n",
    "    return best_candidate"
   ]
  },
  {
   "cell_type": "code",
   "execution_count": 15,
   "id": "9c6c3682",
   "metadata": {},
   "outputs": [],
   "source": [
    "def take_job_inputs():\n",
    "    job_description = input(\"Enter the job description: \")\n",
    "    num_candidates = int(input(\"\\n\\nEnter the number of candidates: \"))\n",
    "\n",
    "    candidate_details = []\n",
    "    for i in range(num_candidates):\n",
    "        name = input(f\"\\n\\nEnter the name of candidate {i+1}: \")\n",
    "        profile = input(f\"\\n\\nEnter the profile details of candidate {i+1}: \")\n",
    "        candidate_details.append({'name': name, 'profile': profile})\n",
    "\n",
    "    return job_description, candidate_details"
   ]
  },
  {
   "cell_type": "code",
   "execution_count": 17,
   "id": "56723841",
   "metadata": {},
   "outputs": [],
   "source": [
    "def find_best_candidate_for_job(job_keywords, candidate_details):\n",
    "    best_score = 0\n",
    "    best_candidate = None\n",
    "\n",
    "    for candidate in candidate_details:\n",
    "        candidate_profile = candidate['profile']\n",
    "        score = calculate_similarity(job_keywords, candidate_profile)\n",
    "\n",
    "        if score > best_score:\n",
    "            best_score = score\n",
    "            best_candidate = candidate['name']\n",
    "\n",
    "    return best_candidate"
   ]
  },
  {
   "cell_type": "code",
   "execution_count": 18,
   "id": "047fb323",
   "metadata": {},
   "outputs": [
    {
     "name": "stdout",
     "output_type": "stream",
     "text": [
      "Enter the job description: AI Software Development Intern Job Description: We are seeking a motivated and skilled AI Software Development Intern to join our software  engineering team. As an AI Software Development Intern, you will have the opportunity to work on  developing and implementing AI-powered software solutions. You will collaborate with experienced  engineers to design and build robust AI systems, leverage machine learning algorithms, and contribute  to the development of cutting-edge AI applications. Responsibilities: 1. Collaborate with the software engineering team to understand project requirements and contribute  to the design and architecture of AI-driven software solutions. 2. Assist in developing and implementing AI models, algorithms, and systems using programming  languages such as Python, Java, or C++. 3. Preprocess and analyze large-scale data sets to extract meaningful insights and prepare them for AI  model training. 4. Train and fine-tune AI models using frameworks like TensorFlow, PyTorch, or scikit-learn, ensuring  optimal performance and accuracy. 5. Integrate AI models into software applications or platforms, considering scalability, performance,  and maintainability. 6. Collaborate with cross-functional teams to develop and improve data pipelines, APIs, and other  software infrastructure components. 7. Write clean, efficient, and well-documented code, following software development best practices  and coding standards. 8. Conduct testing and debugging of AI software components, identifying and resolving software  defects or performance issues.\n",
      "\n",
      "\n",
      "Enter the number of candidates: 2\n",
      "\n",
      "\n",
      "Enter the name of candidate 1: SURYATEJATIRUVEEDHULA\n",
      "\n",
      "\n",
      "Enter the profile details of candidate 1: Suryateja Tiruveedhula is a skilled Computer Science professional with expertise in AI and a basic proficiency in Java. i have a good comand about the latest technologies, including AI, LIFI, and LORA, and has a strong conceptual understanding of AI, DSA, and ML. With a proven track record in leadership and practical management gained through various university projects and events, I demonstrates excellent documentation and organizational skills. I possesses an analytical and technical mindset and is enthusiastic about exploring the fields of AI ,ML,HR Analytics.\n",
      "\n",
      "\n",
      "Enter the name of candidate 2: VIDYA AMBATI\n",
      "\n",
      "\n",
      "Enter the profile details of candidate 2: Computer Science graduate passionate about Data Engineering, Artificial Intelligence and Machine learning. Extremely organized with good writing and multitasking skills. As a highly-capable leader, possessing good practical experience in management gained through several university projects, which involved coordinating tasks, between different team members and ensuring that everyone was in sync with the latest information. Proficient in a range of modern technologies including Python, Java and Scala Possess exceptional communication and interpersonal skills with a proven ability to work independently and as part of a team.\n"
     ]
    }
   ],
   "source": [
    "job_description, candidate_details = take_job_inputs()"
   ]
  },
  {
   "cell_type": "code",
   "execution_count": 19,
   "id": "64f629a4",
   "metadata": {},
   "outputs": [
    {
     "name": "stdout",
     "output_type": "stream",
     "text": [
      "The best candidate for the job is: SURYATEJATIRUVEEDHULA\n"
     ]
    }
   ],
   "source": [
    "best_candidate = find_best_candidate_for_job(job_description, candidate_details)\n",
    "print(f\"The best candidate for the job is: {best_candidate}\")"
   ]
  },
  {
   "cell_type": "code",
   "execution_count": null,
   "id": "ae5b446e",
   "metadata": {},
   "outputs": [],
   "source": []
  }
 ],
 "metadata": {
  "kernelspec": {
   "display_name": "Python 3 (ipykernel)",
   "language": "python",
   "name": "python3"
  },
  "language_info": {
   "codemirror_mode": {
    "name": "ipython",
    "version": 3
   },
   "file_extension": ".py",
   "mimetype": "text/x-python",
   "name": "python",
   "nbconvert_exporter": "python",
   "pygments_lexer": "ipython3",
   "version": "3.9.12"
  }
 },
 "nbformat": 4,
 "nbformat_minor": 5
}
